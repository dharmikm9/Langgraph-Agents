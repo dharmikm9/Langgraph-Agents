{
 "cells": [
  {
   "cell_type": "code",
   "id": "initial_id",
   "metadata": {
    "collapsed": true,
    "ExecuteTime": {
     "end_time": "2025-07-19T06:26:35.570415Z",
     "start_time": "2025-07-19T06:26:34.138840Z"
    }
   },
   "source": [
    "from typing import Annotated\n",
    "from typing_extensions import TypedDict\n",
    "\n",
    "from langgraph.graph import StateGraph, START, END\n",
    "from langgraph.graph.message import add_messages\n",
    "from langgraph.prebuilt import ToolNode, tools_condition\n",
    "\n",
    "from langchain.chat_models import init_chat_model\n",
    "from langchain.tools import tool"
   ],
   "outputs": [],
   "execution_count": 1
  },
  {
   "metadata": {
    "ExecuteTime": {
     "end_time": "2025-07-19T06:26:38.520431Z",
     "start_time": "2025-07-19T06:26:38.496342Z"
    }
   },
   "cell_type": "code",
   "source": [
    "from dotenv import load_dotenv\n",
    "load_dotenv()"
   ],
   "id": "e8fb9fa04963b157",
   "outputs": [
    {
     "data": {
      "text/plain": [
       "True"
      ]
     },
     "execution_count": 2,
     "metadata": {},
     "output_type": "execute_result"
    }
   ],
   "execution_count": 2
  },
  {
   "metadata": {
    "ExecuteTime": {
     "end_time": "2025-07-19T06:27:35.849273Z",
     "start_time": "2025-07-19T06:27:35.842989Z"
    }
   },
   "cell_type": "code",
   "source": [
    "class State(TypedDict):\n",
    "    messages : Annotated[list, add_messages]"
   ],
   "id": "de422602447d1d6d",
   "outputs": [],
   "execution_count": 3
  },
  {
   "metadata": {
    "ExecuteTime": {
     "end_time": "2025-07-19T06:44:01.275327Z",
     "start_time": "2025-07-19T06:44:01.222878Z"
    }
   },
   "cell_type": "code",
   "source": [
    "@tool\n",
    "def get_stock_price(symbol: str) -> float:\n",
    "    '''Return the current price of a stock given the stock symbol\n",
    "    :param symbol: stock symbol\n",
    "    :return: current price of the stock\n",
    "    '''\n",
    "    return {\n",
    "        \"MSFT\": 200.3,\n",
    "        \"AAPL\": 100.4,\n",
    "        \"AMZN\": 150.0,\n",
    "        \"RIL\": 87.6\n",
    "    }.get(symbol, 0.0)\n",
    "\n",
    "tools = [get_stock_price]\n",
    "\n",
    "llm = init_chat_model(\"google_genai:gemini-2.0-flash\")\n",
    "llm_with_tools = llm.bind_tools(tools)"
   ],
   "id": "a5b2e7604eac1699",
   "outputs": [],
   "execution_count": 21
  },
  {
   "metadata": {
    "ExecuteTime": {
     "end_time": "2025-07-19T06:44:03.038909Z",
     "start_time": "2025-07-19T06:44:03.029275Z"
    }
   },
   "cell_type": "code",
   "source": [
    "def chat_agent(state: State) -> State:\n",
    "    return {\"messages\" : [llm_with_tools.invoke(state[\"messages\"])]}"
   ],
   "id": "686394a13ee1371f",
   "outputs": [],
   "execution_count": 22
  },
  {
   "metadata": {
    "ExecuteTime": {
     "end_time": "2025-07-19T06:44:03.412094Z",
     "start_time": "2025-07-19T06:44:03.390767Z"
    }
   },
   "cell_type": "code",
   "source": [
    "builder = StateGraph(State)\n",
    "\n",
    "builder.add_node(\"CHAT_AGENT\", chat_agent)\n",
    "builder.add_node(\"tools\", ToolNode(tools))\n",
    "\n",
    "builder.add_edge(START, \"CHAT_AGENT\")\n",
    "builder.add_conditional_edges(\"CHAT_AGENT\", tools_condition)\n",
    "builder.add_edge(\"tools\", \"CHAT_AGENT\")\n",
    "builder.add_edge(\"CHAT_AGENT\", END)\n",
    "\n",
    "graph = builder.compile()"
   ],
   "id": "d2887f34c39eee85",
   "outputs": [],
   "execution_count": 23
  },
  {
   "metadata": {
    "ExecuteTime": {
     "end_time": "2025-07-19T06:44:06.570542Z",
     "start_time": "2025-07-19T06:44:03.560920Z"
    }
   },
   "cell_type": "code",
   "source": [
    "from IPython.display import Image, display\n",
    "\n",
    "Image(graph.get_graph().draw_mermaid_png())"
   ],
   "id": "d38b5bfd2e503df4",
   "outputs": [
    {
     "data": {
      "image/png": "[encoded data removed]",
      "text/plain": [
       "<IPython.core.display.Image object>"
      ]
     },
     "execution_count": 24,
     "metadata": {},
     "output_type": "execute_result"
    }
   ],
   "execution_count": 24
  },
  {
   "metadata": {
    "ExecuteTime": {
     "end_time": "2025-07-19T06:44:08.876864Z",
     "start_time": "2025-07-19T06:44:06.583423Z"
    }
   },
   "cell_type": "code",
   "source": [
    "state = graph.invoke({\"messages\": [{\"role\": \"user\", \"content\": \"What is the price of AAPL stock price right now?\"}]})\n",
    "print(state[\"messages\"][-1].content)"
   ],
   "id": "aa082695deaee6c3",
   "outputs": [
    {
     "name": "stdout",
     "output_type": "stream",
     "text": [
      "The current price of AAPL stock is $100.4.\n"
     ]
    }
   ],
   "execution_count": 25
  },
  {
   "metadata": {
    "ExecuteTime": {
     "end_time": "2025-07-19T06:44:09.651499Z",
     "start_time": "2025-07-19T06:44:08.886948Z"
    }
   },
   "cell_type": "code",
   "source": [
    "state = graph.invoke({\"messages\": [{\"role\": \"user\", \"content\": \"Who invented theory of relativity? print person name only\"}]})\n",
    "print(state[\"messages\"][-1].content)"
   ],
   "id": "1e144ae174a11604",
   "outputs": [
    {
     "name": "stdout",
     "output_type": "stream",
     "text": [
      "Albert Einstein\n"
     ]
    }
   ],
   "execution_count": 26
  },
  {
   "metadata": {
    "ExecuteTime": {
     "end_time": "2025-07-19T06:44:12.290625Z",
     "start_time": "2025-07-19T06:44:09.766919Z"
    }
   },
   "cell_type": "code",
   "source": [
    "msg = \"I want to buy 20 AMZN stocks using current price. Then 15 MSFT. What will be the total cost?\"\n",
    "\n",
    "state = graph.invoke({\"messages\": [{\"role\": \"user\", \"content\": msg}]})\n",
    "print(state[\"messages\"][-1].content)"
   ],
   "id": "2f6bead3cc286aaf",
   "outputs": [
    {
     "name": "stdout",
     "output_type": "stream",
     "text": [
      "The current price for AMZN is $150 and for MSFT is $200.3.\n",
      "The total cost for 20 AMZN stocks is 20 * $150 = $3000.\n",
      "The total cost for 15 MSFT stocks is 15 * $200.3 = $3004.5.\n",
      "Therefore, the total cost for both is $3000 + $3004.5 = $6004.5.\n"
     ]
    }
   ],
   "execution_count": 27
  }
 ],
 "metadata": {
  "kernelspec": {
   "display_name": "Python 3",
   "language": "python",
   "name": "python3"
  },
  "language_info": {
   "codemirror_mode": {
    "name": "ipython",
    "version": 2
   },
   "file_extension": ".py",
   "mimetype": "text/x-python",
   "name": "python",
   "nbconvert_exporter": "python",
   "pygments_lexer": "ipython2",
   "version": "2.7.6"
  }
 },
 "nbformat": 4,
 "nbformat_minor": 5
}
