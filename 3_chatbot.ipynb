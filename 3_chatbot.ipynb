{
 "cells": [
  {
   "cell_type": "code",
   "id": "initial_id",
   "metadata": {
    "collapsed": true,
    "ExecuteTime": {
     "end_time": "2025-07-18T16:37:10.284899Z",
     "start_time": "2025-07-18T16:37:10.181830Z"
    }
   },
   "source": [
    "from typing import Annotated\n",
    "from dotenv import load_dotenv\n",
    "load_dotenv()"
   ],
   "outputs": [
    {
     "data": {
      "text/plain": [
       "True"
      ]
     },
     "execution_count": 1,
     "metadata": {},
     "output_type": "execute_result"
    }
   ],
   "execution_count": 1
  },
  {
   "metadata": {
    "ExecuteTime": {
     "end_time": "2025-07-18T16:39:27.736726Z",
     "start_time": "2025-07-18T16:39:27.722877Z"
    }
   },
   "cell_type": "code",
   "source": [
    "from typing_extensions import TypedDict\n",
    "from langchain.chat_models import init_chat_model\n",
    "\n",
    "from langgraph.graph import StateGraph, START, END\n",
    "from langgraph.graph.message import  add_messages"
   ],
   "id": "948f4344fcd5a5d6",
   "outputs": [],
   "execution_count": 4
  },
  {
   "metadata": {
    "ExecuteTime": {
     "end_time": "2025-07-18T16:39:42.535894Z",
     "start_time": "2025-07-18T16:39:40.695976Z"
    }
   },
   "cell_type": "code",
   "source": "llm = init_chat_model(\"google_genai:gemini-2.0-flash\")",
   "id": "bb322f3df54d3c58",
   "outputs": [],
   "execution_count": 5
  },
  {
   "metadata": {
    "ExecuteTime": {
     "end_time": "2025-07-18T16:44:46.344250Z",
     "start_time": "2025-07-18T16:44:46.325136Z"
    }
   },
   "cell_type": "code",
   "source": [
    "class State(TypedDict):\n",
    "    messages: Annotated[list, add_messages]\n",
    "    \n",
    "\n",
    "def chatbot(state : State) -> State:\n",
    "    return {\"messages\": llm.invoke(state[\"messages\"])}"
   ],
   "id": "7ead16f1d26676e0",
   "outputs": [],
   "execution_count": 7
  },
  {
   "metadata": {
    "ExecuteTime": {
     "end_time": "2025-07-18T16:46:51.243016Z",
     "start_time": "2025-07-18T16:46:51.234284Z"
    }
   },
   "cell_type": "code",
   "source": [
    "builder = StateGraph(State)\n",
    "builder.add_node(\"chat_node\", chatbot)\n",
    "\n",
    "builder.add_edge(START, \"chat_node\")\n",
    "builder.add_edge(\"chat_node\",  END)\n",
    "\n",
    "graph = builder.compile()"
   ],
   "id": "245b30c823c79379",
   "outputs": [],
   "execution_count": 9
  },
  {
   "metadata": {
    "ExecuteTime": {
     "end_time": "2025-07-18T16:47:08.860966Z",
     "start_time": "2025-07-18T16:47:08.285243Z"
    }
   },
   "cell_type": "code",
   "source": [
    "from IPython.display import Image, display\n",
    "display(Image(graph.get_graph().draw_mermaid_png()))"
   ],
   "id": "e9bd0139327893e3",
   "outputs": [
    {
     "data": {
      "image/png": "[encoded data removed]",
      "text/plain": [
       "<IPython.core.display.Image object>"
      ]
     },
     "metadata": {},
     "output_type": "display_data"
    }
   ],
   "execution_count": 10
  },
  {
   "metadata": {
    "ExecuteTime": {
     "end_time": "2025-07-18T16:47:47.886008Z",
     "start_time": "2025-07-18T16:47:46.847597Z"
    }
   },
   "cell_type": "code",
   "source": [
    "message = {\"role\": \"user\", \"content\": \"Who walked on the moon for the first time? Print only the name\"}\n",
    "response = graph.invoke({\"messages\":[message]})\n",
    "response[\"messages\"]"
   ],
   "id": "55091382fecef302",
   "outputs": [
    {
     "data": {
      "text/plain": [
       "[HumanMessage(content='Who walked on the moon for the first time? Print only the name', additional_kwargs={}, response_metadata={}, id='38742b77-b1e7-4ae1-a3b5-bf0e7f92afc7'),\n",
       " AIMessage(content='Neil Armstrong', additional_kwargs={}, response_metadata={'prompt_feedback': {'block_reason': 0, 'safety_ratings': []}, 'finish_reason': 'STOP', 'model_name': 'gemini-2.0-flash', 'safety_ratings': []}, id='run--1749b80e-4798-49ea-8356-af959f170bf0-0', usage_metadata={'input_tokens': 14, 'output_tokens': 3, 'total_tokens': 17, 'input_token_details': {'cache_read': 0}})]"
      ]
     },
     "execution_count": 11,
     "metadata": {},
     "output_type": "execute_result"
    }
   ],
   "execution_count": 11
  },
  {
   "metadata": {
    "ExecuteTime": {
     "end_time": "2025-07-18T16:56:34.639054Z",
     "start_time": "2025-07-18T16:56:04.142493Z"
    }
   },
   "cell_type": "code",
   "source": [
    "state = None\n",
    "while True:\n",
    "    in_message = input(\"User > \")\n",
    "    print(\"User > \", in_message)\n",
    "    if in_message.lower() in {\"quit\", \"exit\"}:\n",
    "        break\n",
    "\n",
    "    if state is None:\n",
    "        state: State = {\n",
    "            \"messages\": [{\n",
    "                \"role\": \"user\",\n",
    "                \"content\": in_message\n",
    "            }],\n",
    "        }\n",
    "    else:\n",
    "        state[\"messages\"].append({\"role\": \"user\", \"content\": in_message})\n",
    "    \n",
    "    state = graph.invoke(state)\n",
    "    print(\"Bot > \", state[\"messages\"][-1].content)     "
   ],
   "id": "227865fb60de0dba",
   "outputs": [
    {
     "name": "stdout",
     "output_type": "stream",
     "text": [
      "User >  Hi\n",
      "Bot >  Hi there! How can I help you today?\n",
      "User >  How are you?\n",
      "Bot >  As a large language model, I don't experience feelings in the same way humans do. However, I am functioning optimally and ready to assist you with your requests! Thanks for asking. How are you doing?\n",
      "User >  who is the first person who landed on moon?\n",
      "Bot >  The first person to land on the moon was **Neil Armstrong**. He took his first step on the lunar surface on July 20, 1969.\n",
      "User >  quit\n"
     ]
    }
   ],
   "execution_count": 15
  },
  {
   "metadata": {},
   "cell_type": "code",
   "outputs": [],
   "execution_count": null,
   "source": "",
   "id": "aef17b3d61646baa"
  }
 ],
 "metadata": {
  "kernelspec": {
   "display_name": "Python 3",
   "language": "python",
   "name": "python3"
  },
  "language_info": {
   "codemirror_mode": {
    "name": "ipython",
    "version": 2
   },
   "file_extension": ".py",
   "mimetype": "text/x-python",
   "name": "python",
   "nbconvert_exporter": "python",
   "pygments_lexer": "ipython2",
   "version": "2.7.6"
  }
 },
 "nbformat": 4,
 "nbformat_minor": 5
}
